{
 "cells": [
  {
   "attachments": {},
   "cell_type": "markdown",
   "metadata": {},
   "source": [
    "# Simple Genetic Algorithm\n",
    "\n",
    "The [Genetic Algorithm (GA)](https://www.wikiwand.com/en/Genetic_algorithm#Initialization) is a type of optimization algorithm inspired by the process of natural selection in biology. It is commonly used to solve problems that involve finding the best solution out of a large set of possible solutions, especially when the problem is complex and has many possible configurations.\n",
    "\n",
    "The algorithm starts by generating an initial population of potential solutions, which are represented as a set of parameters or \"genes\". Each solution in the population is evaluated based on a fitness function that measures how well it performs the desired task. The best solutions are then selected for reproduction, which involves combining or \"breeding\" the genes of two or more solutions to create new offspring solutions. This process is repeated for multiple generations, with each successive generation being created by selecting and breeding the fittest solutions from the previous generation. The GA is inspired by biological evolution, and it simulates a process similar to natural selection in order to find a good solution to a problem\n",
    "\n",
    "The GA has been used to solve a wide range of problems, including optimization, machine learning, and game theory. It is a powerful and versatile algorithm that can find high-quality solutions in complex and dynamic problem spaces.\n",
    "\n",
    "The GA works through the following steps:\n",
    "\n",
    "1. Initialization: Generate an initial population $P$ of $N$ individuals, each represented as a vector of genes. The population is typically chosen randomly or using heuristics.\n",
    "2. Evaluation: Evaluate the fitness of each individual in $P$ using a fitness function $f(x_i)$, where $x_i$ is an individual in $P$.\n",
    "3. Selection: Select a subset $S$ of the population for reproduction, based on their fitness. The selection can be done using various methods, such as roulette wheel selection, tournament selection, or rank-based selection.\n",
    "4. Reproduction: Create a new population $P'$ of $N$ individuals by breeding the individuals in $S$. The breeding is typically done using genetic operators such as crossover and mutation, which introduce new genetic material into the population.\n",
    "5. Replacement: Replace the old population $P$ with the new population $P'$. This step ensures that the population evolves over time and improves its fitness.\n",
    "6. Termination: Terminate the algorithm if a stopping criterion is met, such as a maximum number of generations, a maximum fitness level, or a minimum improvement in fitness.\n",
    "7. Output: The final solution is typically the fittest solution found in the last generation of the algorithm.\n",
    "\n",
    "The GA can be modified and adapted to different problem domains by changing the specific genetic operators used, the fitness function, and the selection criteria. However, these six steps are the core of the algorithm and provide a general framework for solving optimization problems.\n",
    "\n",
    "Resources:\n",
    "\n",
    "- [Simple Genetic Algorithm From Scratch in Python](https://machinelearningmastery.com/simple-genetic-algorithm-from-scratch-in-python/)"
   ]
  },
  {
   "attachments": {},
   "cell_type": "markdown",
   "metadata": {},
   "source": [
    "## Genetic algorithm example\n",
    "\n",
    "In the following example, the genetic algorithm is used to find the maximum sum of a binary vector, with a gene length of 5. The population size is 6, and the mutation rate and crossover rate are set to 0.1 and 0.8, respectively. Elitism is used, with an elite size of 6."
   ]
  },
  {
   "cell_type": "code",
   "execution_count": 48,
   "metadata": {},
   "outputs": [],
   "source": [
    "import numpy as np\n",
    "\n",
    "# Define the fitness function to be maximized\n",
    "def fitness_function(x):\n",
    "    return np.sum(x)"
   ]
  },
  {
   "attachments": {},
   "cell_type": "markdown",
   "metadata": {},
   "source": [
    "### Define the parameters"
   ]
  },
  {
   "cell_type": "code",
   "execution_count": 49,
   "metadata": {},
   "outputs": [],
   "source": [
    "# define the genetic algorithm parameters\n",
    "POPULATION_SIZE = 6\n",
    "GENE_LENGTH = 5\n",
    "MUTATION_RATE = 1.0 / GENE_LENGTH\n",
    "CROSSOVER_RATE = 0.8\n",
    "ELITISM = True\n",
    "ELITE_SIZE = 6\n",
    "MAX_GENERATIONS = 5"
   ]
  },
  {
   "attachments": {},
   "cell_type": "markdown",
   "metadata": {},
   "source": [
    "### Following one iteration"
   ]
  },
  {
   "cell_type": "code",
   "execution_count": 50,
   "metadata": {},
   "outputs": [
    {
     "name": "stdout",
     "output_type": "stream",
     "text": [
      "[[0 0 1 0 1]\n",
      " [0 1 0 0 0]\n",
      " [0 0 0 1 1]\n",
      " [1 1 1 1 1]\n",
      " [1 1 0 1 1]\n",
      " [0 1 0 1 1]]\n"
     ]
    }
   ],
   "source": [
    "population = np.random.randint(2, size=(POPULATION_SIZE, GENE_LENGTH))\n",
    "print(population)"
   ]
  },
  {
   "cell_type": "code",
   "execution_count": 51,
   "metadata": {},
   "outputs": [
    {
     "name": "stdout",
     "output_type": "stream",
     "text": [
      "[2 1 2 5 4 3]\n"
     ]
    }
   ],
   "source": [
    "fitness_values = np.apply_along_axis(fitness_function, 1, population)\n",
    "print(fitness_values)"
   ]
  },
  {
   "attachments": {},
   "cell_type": "markdown",
   "metadata": {},
   "source": [
    "In the tournament strategy, an individual is randomly selected, to compete with a set of $k$ individuals (the tournament size) randomly selected. This operator requires a population of individuals, their corresponding fitness values, and $k$. It then loops through each individual in the population and performs the following steps:\n",
    "\n",
    "1. Select a random subset of the population to form the tournament.\n",
    "2. Calculate the fitness of each individual in the tournament.\n",
    "3. Select the individual with the highest fitness in the tournament as the tournament winner.\n",
    "4. Add the tournament winner to the selected individuals.\n",
    "\n",
    "The selected individuals, can be used as the basis for the next generation of the genetic algorithm."
   ]
  },
  {
   "cell_type": "code",
   "execution_count": 52,
   "metadata": {},
   "outputs": [
    {
     "name": "stdout",
     "output_type": "stream",
     "text": [
      "-----\n",
      "Tournament 1\n",
      " Indices in tournament: [1 4 5] \n",
      " Fitness: [1 4 3] \n",
      " Winner: [1 1 0 1 1]\n",
      "-----\n",
      "Tournament 2\n",
      " Indices in tournament: [1 2 4] \n",
      " Fitness: [1 2 4] \n",
      " Winner: [1 1 0 1 1]\n",
      "-----\n",
      "Tournament 3\n",
      " Indices in tournament: [0 5 1] \n",
      " Fitness: [2 3 1] \n",
      " Winner: [0 1 0 1 1]\n",
      "-----\n",
      "Tournament 4\n",
      " Indices in tournament: [3 2 4] \n",
      " Fitness: [5 2 4] \n",
      " Winner: [1 1 1 1 1]\n",
      "-----\n",
      "Tournament 5\n",
      " Indices in tournament: [5 3 2] \n",
      " Fitness: [3 5 2] \n",
      " Winner: [1 1 1 1 1]\n",
      "-----\n",
      "Tournament 6\n",
      " Indices in tournament: [1 0 5] \n",
      " Fitness: [1 2 3] \n",
      " Winner: [0 1 0 1 1]\n",
      "-----\n",
      "Selected individuals:\n",
      "[[1 1 0 1 1]\n",
      " [1 1 0 1 1]\n",
      " [0 1 0 1 1]\n",
      " [1 1 1 1 1]\n",
      " [1 1 1 1 1]\n",
      " [0 1 0 1 1]]\n",
      "Selected individuals fitness:\n",
      "[4 4 3 5 5 3]\n"
     ]
    }
   ],
   "source": [
    "k = 3\n",
    "num_individuals = population.shape[0]\n",
    "num_genes = population.shape[1]\n",
    "\n",
    "# Initialize selected individuals\n",
    "parents = np.empty((num_individuals, num_genes), dtype=int)\n",
    "parents_fitness = np.empty(num_individuals, dtype=int)\n",
    "\n",
    "for i in range(num_individuals):\n",
    "    # Select a random subset of the population to form the tournament\n",
    "    tournament_indices = np.random.choice(num_individuals, k, replace=False)\n",
    "    tournament_fitness = fitness_values[tournament_indices]\n",
    "\n",
    "    # Select the individual with the highest fitness in the tournament\n",
    "    tournament_winner_index = tournament_indices[np.argmax(tournament_fitness)]\n",
    "    parents_fitness[i] = np.max(tournament_fitness)\n",
    "    parents[i, :] = population[tournament_winner_index, :]\n",
    "    \n",
    "    print(\"-\"*5)\n",
    "    print(\"Tournament {}\\n Indices in tournament: {} \\n Fitness: {} \\n Winner: {}\" \\\n",
    "          .format(i+1, tournament_indices, tournament_fitness, parents[i, :]))\n",
    "\n",
    "print(\"-\"*5)\n",
    "print('Selected individuals:\\n{}'.format(parents))\n",
    "print('Selected individuals fitness:\\n{}'.format(parents_fitness))"
   ]
  },
  {
   "cell_type": "code",
   "execution_count": 53,
   "metadata": {},
   "outputs": [
    {
     "name": "stdout",
     "output_type": "stream",
     "text": [
      "-----\n",
      "Parents: [1 1 0 1 1], [1 1 0 1 1] \n",
      " Offspring: [1 1 0 1 1], [1 1 0 1 1] \n",
      " Crossover point: 4\n",
      "-----\n",
      "Parents: [0 1 0 1 1], [1 1 1 1 1] \n",
      " Offspring: [0 1 0 1 1], [1 1 1 1 1] \n",
      " Crossover point: 4\n",
      "-----\n",
      "Parents: [1 1 1 1 1], [0 1 0 1 1] \n",
      " Offspring: [1 1 1 1 1], [0 1 0 1 1]\n",
      "-----\n",
      "Offspring:\n",
      "[[1 1 0 1 1]\n",
      " [1 1 0 1 1]\n",
      " [0 1 0 1 1]\n",
      " [1 1 1 1 1]\n",
      " [1 1 1 1 1]\n",
      " [0 1 0 1 1]]\n"
     ]
    }
   ],
   "source": [
    "num_parents = parents.shape[0]\n",
    "num_genes = parents.shape[1]\n",
    "\n",
    "# Initialize offspring array\n",
    "offspring = np.empty((num_parents, num_genes), dtype=int)\n",
    "\n",
    "for i in range(0, num_parents, 2):\n",
    "    if np.random.rand() < CROSSOVER_RATE:\n",
    "        # Select crossover point at random\n",
    "        crossover_point = np.random.randint(1, num_genes)\n",
    "        \n",
    "        # Perform single-point crossover\n",
    "        offspring[i, :crossover_point] = parents[i, :crossover_point]\n",
    "        offspring[i, crossover_point:] = parents[i+1, crossover_point:]\n",
    "        offspring[i+1, :crossover_point] = parents[i+1, :crossover_point]\n",
    "        offspring[i+1, crossover_point:] = parents[i, crossover_point:]\n",
    "        \n",
    "        print(\"-\"*5)\n",
    "        print(\"Parents: {}, {} \\n Offspring: {}, {} \\n Crossover point: {}\" \\\n",
    "          .format(parents[i, :], parents[i+1, :], offspring[i, :], offspring[i+1, :], crossover_point))\n",
    "    else:\n",
    "        # If no crossover is performed, simply copy parents to offspring\n",
    "        offspring[i, :] = parents[i, :]\n",
    "        offspring[i+1, :] = parents[i+1, :]\n",
    "        print(\"-\"*5)\n",
    "        print(\"Parents: {}, {} \\n Offspring: {}, {}\" \\\n",
    "          .format(parents[i, :], parents[i+1, :], offspring[i, :], offspring[i+1, :]))\n",
    "\n",
    "print(\"-\"*5)\n",
    "print('Offspring:\\n{}'.format(offspring))\n",
    "    "
   ]
  },
  {
   "cell_type": "code",
   "execution_count": 54,
   "metadata": {},
   "outputs": [
    {
     "name": "stdout",
     "output_type": "stream",
     "text": [
      "Mutated offspring:\n",
      "[[1 1 1 1 1]\n",
      " [0 1 0 1 0]\n",
      " [1 1 0 1 1]\n",
      " [1 0 1 1 1]\n",
      " [0 1 1 1 0]\n",
      " [0 1 0 0 1]]\n",
      "Mutated offspring fitness:[5 2 4 4 3 2]\n"
     ]
    }
   ],
   "source": [
    "mask = np.random.rand(*offspring.shape) < MUTATION_RATE\n",
    "offspring[mask] = 1 - offspring[mask]\n",
    "print('Mutated offspring:\\n{}'.format(offspring))\n",
    "offspring_fitness = evaluate_population(offspring)\n",
    "print('Mutated offspring fitness:{}'.format(offspring_fitness))"
   ]
  },
  {
   "cell_type": "code",
   "execution_count": 55,
   "metadata": {},
   "outputs": [
    {
     "name": "stdout",
     "output_type": "stream",
     "text": [
      "Indivituals for elitism selection:\n",
      "[[1 1 0 1 1]\n",
      " [1 1 0 1 1]\n",
      " [0 1 0 1 1]\n",
      " [1 1 1 1 1]\n",
      " [1 1 1 1 1]\n",
      " [0 1 0 1 1]\n",
      " [1 1 1 1 1]\n",
      " [0 1 0 1 0]\n",
      " [1 1 0 1 1]\n",
      " [1 0 1 1 1]\n",
      " [0 1 1 1 0]\n",
      " [0 1 0 0 1]]\n",
      "Indivituals fitness for elitism selection:\n",
      "[4 4 3 5 5 3 5 2 4 4 3 2]\n",
      "Elite indices:\n",
      "[6 4 3 9 8 1]\n",
      "Elite:\n",
      "[[1 1 1 1 1]\n",
      " [1 1 1 1 1]\n",
      " [1 1 1 1 1]\n",
      " [1 0 1 1 1]\n",
      " [1 1 0 1 1]\n",
      " [1 1 0 1 1]]\n"
     ]
    }
   ],
   "source": [
    "population = np.vstack((parents, offspring))\n",
    "fitness_values = np.concatenate((parents_fitness, offspring_fitness))\n",
    "print('Indivituals for elitism selection:\\n{}'.format(population))\n",
    "print('Indivituals fitness for elitism selection:\\n{}'.format(fitness_values))\n",
    "\n",
    "elite_indices = np.argsort(fitness_values)[:ELITE_SIZE-1:-1]\n",
    "print('Elite indices:\\n{}'.format(elite_indices))\n",
    "elites = population[elite_indices, :]\n",
    "print('Elite:\\n{}'.format(elites))"
   ]
  },
  {
   "attachments": {},
   "cell_type": "markdown",
   "metadata": {},
   "source": [
    "### Run the genetic algorithm and print the best solution found"
   ]
  },
  {
   "cell_type": "code",
   "execution_count": 56,
   "metadata": {},
   "outputs": [],
   "source": [
    "# best_solution = run_genetic_algorithm(POPULATION_SIZE, \n",
    "#                                       GENE_LENGTH, \n",
    "#                                       MAX_GENERATIONS, \n",
    "#                                       CROSSOVER_RATE, \n",
    "#                                       MUTATION_RATE, ELITISM, \n",
    "#                                       ELITE_SIZE)\n",
    "\n",
    "# print(\"Best Solution: {}\".format(best_solution))"
   ]
  },
  {
   "cell_type": "code",
   "execution_count": 57,
   "metadata": {},
   "outputs": [],
   "source": [
    "# define the fitness function to be maximized\n",
    "def fitness_function(x):\n",
    "    # define your fitness function here\n",
    "    return x[0]**2 + x[1]**2"
   ]
  },
  {
   "cell_type": "code",
   "execution_count": 58,
   "metadata": {},
   "outputs": [],
   "source": [
    "# define range for input\n",
    "BOUNDS = [[-5.0, 5.0], [-5.0, 5.0]]\n",
    "\n",
    "# define the genetic algorithm parameters\n",
    "POPULATION_SIZE = 6\n",
    "GENE_LENGTH = 16\n",
    "MUTATION_RATE = 1.0 / (float(GENE_LENGTH) * len(BOUNDS))\n",
    "CROSSOVER_RATE = 0.8\n",
    "ELITISM = True\n",
    "ELITE_SIZE = 6\n",
    "MAX_GENERATIONS = 5"
   ]
  },
  {
   "cell_type": "code",
   "execution_count": 59,
   "metadata": {},
   "outputs": [
    {
     "name": "stdout",
     "output_type": "stream",
     "text": [
      "[[1 0 1 0 0 0 0 0 1 0 1 0 1 1 0 1 1 1 1 1 1 0 0 0 0 1 1 1 0 0 1 0]\n",
      " [0 1 0 1 0 0 0 1 1 0 1 0 1 0 0 1 0 1 0 0 1 0 0 0 0 1 1 0 1 0 1 1]\n",
      " [1 0 1 1 0 1 1 1 1 0 1 0 0 1 0 1 0 1 0 0 1 0 1 0 1 0 1 1 1 1 0 0]\n",
      " [1 1 1 1 0 0 0 0 1 1 0 0 1 0 0 1 0 1 1 1 1 1 1 0 1 1 0 0 1 1 0 0]\n",
      " [0 1 1 1 1 0 1 1 1 0 0 1 1 1 1 0 0 1 1 0 1 1 0 1 0 0 0 0 1 0 0 1]\n",
      " [0 1 0 1 1 0 0 1 0 1 1 1 0 1 1 0 0 1 1 0 1 0 1 0 0 0 0 0 0 1 1 1]]\n"
     ]
    }
   ],
   "source": [
    "population = np.random.randint(2, size=(POPULATION_SIZE, GENE_LENGTH*len(BOUNDS)))\n",
    "print(population)"
   ]
  },
  {
   "cell_type": "code",
   "execution_count": 33,
   "metadata": {},
   "outputs": [
    {
     "data": {
      "text/plain": [
       "0"
      ]
     },
     "execution_count": 33,
     "metadata": {},
     "output_type": "execute_result"
    }
   ],
   "source": [
    "fitness_function([0, 0])"
   ]
  },
  {
   "cell_type": "code",
   "execution_count": 41,
   "metadata": {},
   "outputs": [
    {
     "name": "stdout",
     "output_type": "stream",
     "text": [
      "Generation 0: Best Fitness = 47.059515636375394\n",
      "Generation 1: Best Fitness = 47.889385967480294\n",
      "Generation 2: Best Fitness = 48.284602665054045\n",
      "Generation 3: Best Fitness = 49.47035408635894\n",
      "Generation 4: Best Fitness = 50.73471279134344\n",
      "Generation 5: Best Fitness = 51.94003795187149\n",
      "Generation 6: Best Fitness = 51.94003795187149\n",
      "Generation 7: Best Fitness = 55.58698917598347\n",
      "Generation 8: Best Fitness = 55.58698917598347\n",
      "Generation 9: Best Fitness = 55.87925963839109\n",
      "Best Solution: [ 5.16213624 -5.40662641  3.72058    -2.89690443 -1.05069466  1.70237221\n",
      "  4.68506709 -1.4839917  -2.68351999  3.34059492]\n"
     ]
    }
   ],
   "source": [
    "import numpy as np\n",
    "\n",
    "# define the genetic algorithm parameters\n",
    "POPULATION_SIZE = 100\n",
    "GENE_LENGTH = 10\n",
    "MUTATION_RATE = 0.1\n",
    "CROSSOVER_RATE = 0.8\n",
    "ELITISM = True\n",
    "ELITE_SIZE = 2\n",
    "MAX_GENERATIONS = 10\n",
    "\n",
    "# define the fitness function to be maximized\n",
    "def fitness_function(x):\n",
    "    # define your fitness function here\n",
    "    return x[0]**2 + x[1]**2\n",
    "\n",
    "# initialize the population with random genes\n",
    "def initialize_population():\n",
    "    return np.random.uniform(low=-5.0, high=5.0, size=(POPULATION_SIZE, GENE_LENGTH))\n",
    "\n",
    "# evaluate the fitness of each individual in the population\n",
    "def evaluate_population(population):\n",
    "    fitness_values = np.apply_along_axis(fitness_function, 1, population)\n",
    "    return fitness_values\n",
    "\n",
    "# select parents using tournament selection\n",
    "def tournament_selection(population, fitness_values, k=2):\n",
    "    indices = np.random.randint(0, population.shape[0], (k, len(population)))\n",
    "    selected_indices = np.argmax(fitness_values[indices], axis=0)\n",
    "    return population[indices[selected_indices, np.arange(len(population))]]\n",
    "\n",
    "# perform crossover on selected parents\n",
    "def crossover(parents):\n",
    "    children = parents.copy()\n",
    "    mask = np.random.randint(0, 2, size=parents.shape[1], dtype=bool)\n",
    "    children[0, mask] = parents[1, mask]\n",
    "    children[1, mask] = parents[0, mask]\n",
    "    return children\n",
    "\n",
    "# perform mutation on the population\n",
    "def mutate(population):\n",
    "    mask = np.random.rand(*population.shape) < MUTATION_RATE\n",
    "    population[mask] += np.random.normal(scale=0.1, size=population[mask].shape)\n",
    "    return population\n",
    "\n",
    "# select the next generation using elitism and tournament selection\n",
    "def select_next_generation(population, fitness_values):\n",
    "    if ELITISM:\n",
    "        elite_indices = np.argsort(fitness_values)[-ELITE_SIZE:]\n",
    "        elite_population = population[elite_indices]\n",
    "        population = tournament_selection(population, fitness_values)\n",
    "        population[-ELITE_SIZE:] = elite_population\n",
    "    else:\n",
    "        population = tournament_selection(population, fitness_values)\n",
    "    return population\n",
    "\n",
    "# run the genetic algorithm to find the optimal solution\n",
    "def run_genetic_algorithm():\n",
    "    # initialize the population and fitness values\n",
    "    population = initialize_population()\n",
    "    fitness_values = evaluate_population(population)\n",
    "\n",
    "    for generation in range(MAX_GENERATIONS):\n",
    "        # select parents and perform crossover\n",
    "        parents = tournament_selection(population, fitness_values, k=2)\n",
    "        children = crossover(parents)\n",
    "\n",
    "        # mutate the children and evaluate the fitness of the new population\n",
    "        children = mutate(children)\n",
    "        children_fitness = evaluate_population(children)\n",
    "\n",
    "        # select the next generation\n",
    "        population = select_next_generation(np.vstack((population, children)), np.concatenate((fitness_values, children_fitness)))\n",
    "        fitness_values = evaluate_population(population)\n",
    "\n",
    "        # print the best fitness value for this generation\n",
    "        print(\"Generation {}: Best Fitness = {}\".format(generation, np.max(fitness_values)))\n",
    "\n",
    "    # return the best solution found\n",
    "    best_index = np.argmax(fitness_values)\n",
    "    return population[best_index]\n",
    "\n",
    "# run the genetic algorithm and print the best solution found\n",
    "best_solution = run_genetic_algorithm()\n",
    "print(\"Best Solution: {}\".format(best_solution))\n"
   ]
  },
  {
   "cell_type": "code",
   "execution_count": 44,
   "metadata": {},
   "outputs": [
    {
     "data": {
      "text/plain": [
       "2"
      ]
     },
     "execution_count": 44,
     "metadata": {},
     "output_type": "execute_result"
    }
   ],
   "source": [
    "\n",
    "fitness_function([0, 0])"
   ]
  }
 ],
 "metadata": {
  "kernelspec": {
   "display_name": "Python 3.11.0 ('.venv': venv)",
   "language": "python",
   "name": "python3"
  },
  "language_info": {
   "codemirror_mode": {
    "name": "ipython",
    "version": 3
   },
   "file_extension": ".py",
   "mimetype": "text/x-python",
   "name": "python",
   "nbconvert_exporter": "python",
   "pygments_lexer": "ipython3",
   "version": "3.11.0"
  },
  "orig_nbformat": 4,
  "vscode": {
   "interpreter": {
    "hash": "af8d2b42bbcac3c0f15af5b047f0981047649e1c410c7983e2a31a331d0d26bf"
   }
  }
 },
 "nbformat": 4,
 "nbformat_minor": 2
}
