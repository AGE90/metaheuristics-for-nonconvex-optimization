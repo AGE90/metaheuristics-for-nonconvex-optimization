{
 "cells": [
  {
   "attachments": {},
   "cell_type": "markdown",
   "metadata": {},
   "source": [
    "## Slime Mould Optimization (SMO) algorithm"
   ]
  },
  {
   "cell_type": "code",
   "execution_count": 1,
   "metadata": {},
   "outputs": [],
   "source": [
    "import numpy as np\n",
    "\n",
    "class SlimeMould:\n",
    "    def __init__(self, num_slime_moulds, num_iterations, decay_rate, step_size):\n",
    "        self.num_slime_moulds = num_slime_moulds\n",
    "        self.num_iterations = num_iterations\n",
    "        self.decay_rate = decay_rate\n",
    "        self.step_size = step_size\n",
    "        \n",
    "    def optimize(self, start_pos, end_pos, obstacle_map):\n",
    "        height, width = obstacle_map.shape\n",
    "        slime_moulds = np.zeros((self.num_slime_moulds, 2))\n",
    "        slime_moulds[:, 0] = start_pos[0]\n",
    "        slime_moulds[:, 1] = start_pos[1]\n",
    "        pheromone_map = np.zeros((height, width))\n",
    "        \n",
    "        for i in range(self.num_iterations):\n",
    "            for j in range(self.num_slime_moulds):\n",
    "                x, y = slime_moulds[j, :]\n",
    "                dx = np.random.uniform(-1, 1)\n",
    "                dy = np.random.uniform(-1, 1)\n",
    "                dx /= np.linalg.norm([dx, dy])\n",
    "                dy /= np.linalg.norm([dx, dy])\n",
    "                x += self.step_size * dx\n",
    "                y += self.step_size * dy\n",
    "                \n",
    "                if x < 0 or x >= height or y < 0 or y >= width:\n",
    "                    continue\n",
    "                \n",
    "                if obstacle_map[int(x), int(y)] == 1:\n",
    "                    continue\n",
    "                \n",
    "                pheromone = pheromone_map[int(x), int(y)]\n",
    "                prob = np.exp(-self.decay_rate * pheromone)\n",
    "                if np.random.uniform() < prob:\n",
    "                    slime_moulds[j, :] = [x, y]\n",
    "                    \n",
    "                    if np.linalg.norm([x - end_pos[0], y - end_pos[1]]) < 10:\n",
    "                        return slime_moulds[j, :]\n",
    "                \n",
    "                pheromone_map[int(x), int(y)] += 1\n",
    "        \n",
    "        return None\n"
   ]
  },
  {
   "cell_type": "code",
   "execution_count": 3,
   "metadata": {},
   "outputs": [
    {
     "data": {
      "image/png": "[encoded data removed]",
      "text/plain": [
       "<Figure size 640x480 with 1 Axes>"
      ]
     },
     "metadata": {},
     "output_type": "display_data"
    }
   ],
   "source": [
    "import matplotlib.pyplot as plt\n",
    "\n",
    "# Create an obstacle map\n",
    "obstacle_map = np.zeros((100, 100))\n",
    "obstacle_map[20:80, 30:70] = 1\n",
    "\n",
    "# Create a SlimeMould object\n",
    "smo = SlimeMould(num_slime_moulds=100, num_iterations=100, decay_rate=0.1, step_size=2)\n",
    "\n",
    "# Find the shortest path between two points\n",
    "start_pos = [10, 10]\n",
    "end_pos = [90, 90]\n",
    "optimal_pos = smo.optimize(start_pos, end_pos, obstacle_map)\n",
    "\n",
    "# Plot the results\n",
    "plt.imshow(obstacle_map, cmap='gray')\n",
    "if optimal_pos is not None:\n",
    "    plt.plot([start_pos[1], optimal_pos[1]], [start_pos[0], optimal_pos[0]], 'r')\n",
    "    plt.plot([optimal_pos[1], end_pos[1]], [optimal_pos[0], end_pos[0]], 'g')\n",
    "plt.show()\n"
   ]
  }
 ],
 "metadata": {
  "kernelspec": {
   "display_name": ".venv",
   "language": "python",
   "name": "python3"
  },
  "language_info": {
   "codemirror_mode": {
    "name": "ipython",
    "version": 3
   },
   "file_extension": ".py",
   "mimetype": "text/x-python",
   "name": "python",
   "nbconvert_exporter": "python",
   "pygments_lexer": "ipython3",
   "version": "3.11.0"
  },
  "orig_nbformat": 4
 },
 "nbformat": 4,
 "nbformat_minor": 2
}
